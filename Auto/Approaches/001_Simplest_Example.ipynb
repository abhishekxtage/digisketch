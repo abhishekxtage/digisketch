{
 "cells": [
  {
   "cell_type": "code",
   "execution_count": 1,
   "metadata": {},
   "outputs": [
    {
     "name": "stdout",
     "output_type": "stream",
     "text": [
      "Folder 'C:/Users/Xtage/OneDrive - Xtage Technologies Private Limited/UTec - Map Detection/Output/001_Sample_Maps' already exists.\n",
      "Folder 'C:/Users/Xtage/OneDrive - Xtage Technologies Private Limited/UTec - Map Detection/Output/001_Sample_Maps/01_Images/001_Edges' already exists.\n",
      "Folder 'C:/Users/Xtage/OneDrive - Xtage Technologies Private Limited/UTec - Map Detection/Output/001_Sample_Maps/01_Images/002_Hough_Lines' already exists.\n"
     ]
    }
   ],
   "source": [
    "import os\n",
    "os.chdir(\"C:/Users/Xtage/OneDrive - Xtage Technologies Private Limited/UTec - Map Detection\")\n",
    "import config\n",
    "import cv2\n",
    "import numpy as np"
   ]
  },
  {
   "cell_type": "code",
   "execution_count": 2,
   "metadata": {},
   "outputs": [],
   "source": [
    "gray = cv2.imread(config.dir_prj_ip + \"/\" + config.prj_id + \".png\")\n",
    "edges = cv2.Canny(gray,50,150,apertureSize = 3)\n",
    "cv2.imwrite(config.dir_prj_op_edges + \"/\" + \"Edges.png\",edges)\n",
    "minLineLength=100\n",
    "lines = cv2.HoughLinesP(image=edges,rho=1,theta=np.pi/180, threshold=100,lines=np.array([]), minLineLength=minLineLength,maxLineGap=80)\n",
    "\n",
    "a,b,c = lines.shape\n",
    "for i in range(a):\n",
    "    cv2.line(gray, (lines[i][0][0], lines[i][0][1]), (lines[i][0][2], lines[i][0][3]), (0, 0, 255), 3, cv2.LINE_AA)\n",
    "    cv2.imwrite(config.dir_prj_op_hough + \"/\" + \"HoughLines.png\",gray)"
   ]
  }
 ],
 "metadata": {
  "kernelspec": {
   "display_name": "Python 3",
   "language": "python",
   "name": "python3"
  },
  "language_info": {
   "codemirror_mode": {
    "name": "ipython",
    "version": 3
   },
   "file_extension": ".py",
   "mimetype": "text/x-python",
   "name": "python",
   "nbconvert_exporter": "python",
   "pygments_lexer": "ipython3",
   "version": "3.9.13"
  }
 },
 "nbformat": 4,
 "nbformat_minor": 2
}
